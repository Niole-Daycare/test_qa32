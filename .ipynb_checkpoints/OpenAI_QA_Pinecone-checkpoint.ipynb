{
 "cells": [
  {
   "cell_type": "code",
   "execution_count": 3,
   "id": "ed1d7574-4089-4cb7-aec9-64c5031cde76",
   "metadata": {},
   "outputs": [],
   "source": [
    "# Load the libraries that are needed\n",
    "from langchain.document_loaders import UnstructuredPDFLoader, OnlinePDFLoader\n",
    "from langchain.text_splitter import RecursiveCharacterTextSplitter\n",
    "\n",
    "import os"
   ]
  },
  {
   "cell_type": "code",
   "execution_count": 4,
   "id": "3b8326bc-e57d-4c0a-a819-53d575469d19",
   "metadata": {},
   "outputs": [],
   "source": [
    "# Load the document that you need to parse, change this location accordingly\n",
    "loader = UnstructuredPDFLoader(\"/mnt/Select_Global_Value_Fund.pdf\")"
   ]
  },
  {
   "cell_type": "code",
   "execution_count": 5,
   "id": "91de197e-4a5c-4a59-942e-24375c706636",
   "metadata": {},
   "outputs": [
    {
     "data": {
      "application/vnd.jupyter.widget-view+json": {
       "model_id": "c2206b5f7c214978b471ec816e6d5b53",
       "version_major": 2,
       "version_minor": 0
      },
      "text/plain": [
       "Downloading model_final.pth:   0%|          | 0.00/330M [00:00<?, ?B/s]"
      ]
     },
     "metadata": {},
     "output_type": "display_data"
    },
    {
     "data": {
      "application/vnd.jupyter.widget-view+json": {
       "model_id": "9afe7dcedd414d93af3034768bc8c2fa",
       "version_major": 2,
       "version_minor": 0
      },
      "text/plain": [
       "Downloading (…)50_FPN_3x/config.yml:   0%|          | 0.00/5.37k [00:00<?, ?B/s]"
      ]
     },
     "metadata": {},
     "output_type": "display_data"
    }
   ],
   "source": [
    "data = loader.load()"
   ]
  },
  {
   "cell_type": "code",
   "execution_count": 6,
   "id": "1c26ab3e-c072-4896-bd58-14ff1bb5f0d2",
   "metadata": {},
   "outputs": [
    {
     "name": "stdout",
     "output_type": "stream",
     "text": [
      "You have 1 document(s) in the dataset\n",
      "There are 50217 characters in the document\n"
     ]
    }
   ],
   "source": [
    "# Get some stats about the document\n",
    "print (f'You have {len(data)} document(s) in the dataset')\n",
    "print (f'There are {len(data[0].page_content)} characters in the document')"
   ]
  },
  {
   "cell_type": "code",
   "execution_count": 7,
   "id": "13c6c57c-c32d-4d2c-b9c1-2f4c922c292e",
   "metadata": {
    "collapsed": true,
    "jupyter": {
     "outputs_hidden": true
    },
    "tags": []
   },
   "outputs": [
    {
     "data": {
      "text/plain": [
       "[Document(page_content='Vanguard Advice Select Global Value Fund\\n\\nContents\\n\\nPlease note: The opinions expressed in this report are just that—informed opinions. They should not be considered promises or advice. Also, please keep in mind that the information and opinions cover the period through the date on the front of this report. Of course, the risks of investing in your fund are spelled out in the prospectus.\\n\\nYour Fund’s Performance at a Glance\\n\\n• The 12 months ended October 31, 2022, were a volatile, challenging period for financial markets. Vanguard Advice Select Global Value Fund, which launched November 9, 2021, returned –14.01% from its inception through October 31, lagging the –12.39% return of its benchmark, the MSCI All Country World Value Index.', lookup_str='', metadata={'source': '/mnt/Select_Global_Value_Fund.pdf'}, lookup_index=0),\n",
       " Document(page_content='• The economic backdrop deteriorated as inflation soared to multidecade highs, fueled in part by higher energy and food prices after Russia’s invasion of Ukraine.Then price increases broadened to other categories of goods and services, adding to concerns that inflation would remain stubbornly high.That prompted aggressive tightening by many central banks to bring inflation back in check and increased fears of a recession.\\n\\n• The fund posted stellar returns in energy (almost 40% on average), but they weren’t enough to offset steep declines in other sectors (most notably, communication services and information technology). Relative to the benchmark, the fund’s stock picks in consumer discretionary and financials held up better, but the fund lagged when it came to health care and communication services.', lookup_str='', metadata={'source': '/mnt/Select_Global_Value_Fund.pdf'}, lookup_index=0)]"
      ]
     },
     "execution_count": 7,
     "metadata": {},
     "output_type": "execute_result"
    }
   ],
   "source": [
    "# Chunk your data up into smaller documents\n",
    "text_splitter = RecursiveCharacterTextSplitter(chunk_size=1000, chunk_overlap=0)\n",
    "texts = text_splitter.split_documents(data)\n",
    "texts[:2]"
   ]
  },
  {
   "cell_type": "code",
   "execution_count": 8,
   "id": "9dee4780-86c3-4d61-b147-ddc0d188b6cf",
   "metadata": {},
   "outputs": [
    {
     "name": "stdout",
     "output_type": "stream",
     "text": [
      "There are now 66 documents\n"
     ]
    }
   ],
   "source": [
    "print (f'There are now {len(texts)} documents')"
   ]
  },
  {
   "cell_type": "code",
   "execution_count": 9,
   "id": "ce06ef56-7cf2-4868-beb4-e95be654788d",
   "metadata": {},
   "outputs": [],
   "source": [
    "#Create embeddings of your documents to get ready for semantic search\n",
    "\n",
    "from langchain.vectorstores import FAISS, Pinecone\n",
    "from langchain.embeddings.openai import OpenAIEmbeddings\n",
    "import pinecone\n",
    "import pickle\n"
   ]
  },
  {
   "cell_type": "code",
   "execution_count": 10,
   "id": "475ca001-db5d-4932-a76b-b2d7398e961b",
   "metadata": {},
   "outputs": [],
   "source": [
    "# Read your OpenAI and Pinecone keys from the environment\n",
    "OPENAI_API_KEY = os.getenv('OPENAI_API_KEY') \n",
    "PINECONE_API_KEY = os.getenv('PINECONE_API_KEY')\n",
    "PINECONE_API_ENV = os.getenv('PINECONE_API_ENV')"
   ]
  },
  {
   "cell_type": "code",
   "execution_count": 11,
   "id": "fadfd8ac-00e2-4631-a1c5-7fd5ce545ca4",
   "metadata": {},
   "outputs": [],
   "source": [
    "embeddings = OpenAIEmbeddings(openai_api_key=OPENAI_API_KEY)"
   ]
  },
  {
   "cell_type": "code",
   "execution_count": 12,
   "id": "3566cd65-e2ca-47fe-b0b3-d32146695e16",
   "metadata": {},
   "outputs": [],
   "source": [
    "# initialize pinecone\n",
    "pinecone.init(\n",
    "    api_key=PINECONE_API_KEY,  # find at app.pinecone.io\n",
    "    environment=PINECONE_API_ENV  # next to api key in console\n",
    ")\n",
    "index_name = \"vanguard-etf\""
   ]
  },
  {
   "cell_type": "code",
   "execution_count": 13,
   "id": "4a748c65-c6ec-4701-b1d0-4db9e4a1211d",
   "metadata": {},
   "outputs": [],
   "source": [
    "# Generate and store the embeddings in Pinecone\n",
    "docsearch = Pinecone.from_texts([t.page_content for t in texts], embeddings, index_name=index_name)"
   ]
  },
  {
   "cell_type": "code",
   "execution_count": 14,
   "id": "996a2052-11e2-4f50-8915-532f9fa127a3",
   "metadata": {},
   "outputs": [],
   "source": [
    "# Query the docs to get your answer back\n",
    "from langchain.llms import OpenAI\n",
    "from langchain.chains.question_answering import load_qa_chain"
   ]
  },
  {
   "cell_type": "code",
   "execution_count": 15,
   "id": "f9afea3a-3fdc-4078-a184-0e9c4c6ce6d3",
   "metadata": {},
   "outputs": [],
   "source": [
    "# Set the temperature to 0 to prevent hallucination\n",
    "llm = OpenAI(temperature=0, openai_api_key=OPENAI_API_KEY)\n",
    "chain = load_qa_chain(llm, chain_type=\"stuff\")"
   ]
  },
  {
   "cell_type": "code",
   "execution_count": 17,
   "id": "27e17dc3-3126-4397-a929-3d5c7eab5d2e",
   "metadata": {},
   "outputs": [],
   "source": [
    "# Ask your query\n",
    "query = \"Who are the trustees of the fund?\"\n",
    "# Get the closest matches to create some context and information for the answer\n",
    "docs = docsearch.similarity_search(query, include_metadata=True)"
   ]
  },
  {
   "cell_type": "code",
   "execution_count": 18,
   "id": "4e7b8b21-32f4-45cc-a25e-eadf0ed86e63",
   "metadata": {},
   "outputs": [
    {
     "data": {
      "text/plain": [
       "[Document(page_content='The trustees of your mutual fund are there to see that the fund is operated and managed in your best interests since, as a shareholder, you are a part owner of the fund.Your fund’s trustees also serve on the board of directors ofThe Vanguard Group, Inc., which is owned by the Vanguard funds and provides services to them.\\n\\nA majority of Vanguard’s board members are independent, meaning that they have no affiliation with Vanguard or the funds they oversee, apart from the sizable personal investments they have made as private individuals.The independent board members have distinguished backgrounds in business, academia, and public service. Each of the trustees and executive officers oversees 206 Vanguard funds.', lookup_str='', metadata={}, lookup_index=0),\n",
       " Document(page_content='Information for each trustee and executive officer of the fund appears below.That information, well as the Vanguard fund count, is as of the date on the cover of this fund report.The mailing address of the trustees and officers is P.O. Box 876, Valley Forge, PA 19482. More information about the trustees is in the Statement of Additional Information , which can be obtained, charge, by contacting Vanguard at 800-662-7447, or online at vanguard.com.\\n\\nInterested Trustee 1\\n\\nIndependent Trustees\\n\\nMortimer J. Buckley\\n\\nTara Bunch\\n\\nBorn in 1969.Trustee since January 2018. Principal occupation(s) during the past five years and other experience: chairman of the board (2019–present) of Vanguard and of each of the investment companies\\n\\n(2018–present) ofVanguard; chief executive officer, president, and trustee (2018–present) of each of the investment companies served byVanguard; president', lookup_str='', metadata={}, lookup_index=0),\n",
       " Document(page_content='To the Board ofTrustees of Vanguard Whitehall Funds and Shareholders of Vanguard Advice Select Global Value Fund.', lookup_str='', metadata={}, lookup_index=0),\n",
       " Document(page_content='esleyan College, and the Rochester Philharmonic Orchestra.Trustee of the\\n\\n1 Mr. Buckley is considered an “interested person,” as defined in the Investment Company Act of 1940, because he is an officer of the Vanguard funds.\\n\\nAndré F. Perold\\n\\nF. Joseph Loughrey\\n\\nBorn in 1952.Trustee since December 2004. Principal occupation(s) during the past five years and other experience: George Gund Professor of Finance and Banking, Emeritus at the Harvard Business School (retired 2011). Chief investment officer and co-managing partner of HighVista Strategies (private investment firm). Member of the board (2018–present) of RIT Capital Partners (investment firm). Member of the investment committee of Partners Health Care System.\\n\\nMark Loughridge\\n\\nSarah Bloom Raskin', lookup_str='', metadata={}, lookup_index=0),\n",
       " Document(page_content='We have audited the accompanying statement of assets and liabilities, including the schedule of investments, of Vanguard Advice Select Global Value Fund (one of the funds constituting Vanguard Whitehall Funds, hereafter referred to as the \"Fund\") as of October 31, 2022, and the related\\n\\nBasis for Opinion\\n\\nThese financial statements are the responsibility of the Fund\\'s management. Our responsibility is to express an opinion on the Fund\\'s financial statements based on our audit. We are a public accounting firm registered with the Public Company Accounting Oversight Board (United States) (PCAOB) and are required to be independent with respect to the Fund in accordance with the U.S. federal securities laws and the applicable rules and regulations of the Securities and Exchange Commission and the PCAOB.', lookup_str='', metadata={}, lookup_index=0)]"
      ]
     },
     "execution_count": 18,
     "metadata": {},
     "output_type": "execute_result"
    }
   ],
   "source": [
    "docs"
   ]
  },
  {
   "cell_type": "code",
   "execution_count": 19,
   "id": "62247b0d-9667-44fe-b5b3-54bfebabb3e6",
   "metadata": {},
   "outputs": [
    {
     "data": {
      "text/plain": [
       "' Mortimer J. Buckley, Tara Bunch, André F. Perold, F. Joseph Loughrey, Mark Loughridge, and Sarah Bloom Raskin.'"
      ]
     },
     "execution_count": 19,
     "metadata": {},
     "output_type": "execute_result"
    }
   ],
   "source": [
    "# Execute the query with the context and information from the embedding/semantic search\n",
    "chain.run(input_documents=docs, question=query)"
   ]
  },
  {
   "cell_type": "code",
   "execution_count": 20,
   "id": "e41c7615-f299-4e0d-a9f4-4d992525a989",
   "metadata": {},
   "outputs": [
    {
     "data": {
      "text/plain": [
       "'The trustees of the fund are Mortimer J. Buckley, Tara Bunch, André F. Perold, F. Joseph Loughrey, Mark Loughridge, and Sarah Bloom Raskin.'"
      ]
     },
     "execution_count": 20,
     "metadata": {},
     "output_type": "execute_result"
    }
   ],
   "source": [
    "# Compare the result with gpt-3.5-turbo, the default above is davinci\n",
    "llm = OpenAI(\n",
    "    openai_api_key=OPENAI_API_KEY,\n",
    "    model_name='gpt-3.5-turbo',\n",
    "    temperature=0.0\n",
    ")\n",
    "\n",
    "chain = load_qa_chain(llm, chain_type=\"stuff\")\n",
    "\n",
    "chain.run(input_documents=docs, question=query)"
   ]
  },
  {
   "cell_type": "code",
   "execution_count": null,
   "id": "62aa163e-da02-4030-9bfe-5dbe136779ae",
   "metadata": {},
   "outputs": [],
   "source": []
  }
 ],
 "metadata": {
  "kernelspec": {
   "display_name": "Python 3",
   "language": "python",
   "name": "python3"
  },
  "language_info": {
   "codemirror_mode": {
    "name": "ipython",
    "version": 3
   },
   "file_extension": ".py",
   "mimetype": "text/x-python",
   "name": "python",
   "nbconvert_exporter": "python",
   "pygments_lexer": "ipython3",
   "version": "3.9.15"
  }
 },
 "nbformat": 4,
 "nbformat_minor": 5
}
