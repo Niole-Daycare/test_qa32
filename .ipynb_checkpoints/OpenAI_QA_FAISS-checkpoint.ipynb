{
 "cells": [
  {
   "cell_type": "code",
   "execution_count": 1,
   "id": "581443cd-3bf2-492c-9d44-652c4090e634",
   "metadata": {},
   "outputs": [],
   "source": [
    "# Load the libraries that are needed\n",
    "from langchain.document_loaders import UnstructuredPDFLoader, OnlinePDFLoader\n",
    "from langchain.text_splitter import RecursiveCharacterTextSplitter\n",
    "\n",
    "import os"
   ]
  },
  {
   "cell_type": "code",
   "execution_count": 4,
   "id": "60382de7-437f-4521-9a6a-5c0af2daa292",
   "metadata": {},
   "outputs": [],
   "source": [
    "# Load the document that you need to parse\n",
    "loader = UnstructuredPDFLoader(\"/mnt/Select_Global_Value_Fund.pdf\")\n",
    "data = loader.load()"
   ]
  },
  {
   "cell_type": "code",
   "execution_count": 5,
   "id": "793c2389-7da7-4f49-bff9-37279daeb228",
   "metadata": {},
   "outputs": [
    {
     "name": "stdout",
     "output_type": "stream",
     "text": [
      "You have 1 document(s) in the dataset\n",
      "There are 50217 characters in the document\n"
     ]
    }
   ],
   "source": [
    "# Get some stats about the document\n",
    "print (f'You have {len(data)} document(s) in the dataset')\n",
    "print (f'There are {len(data[0].page_content)} characters in the document')"
   ]
  },
  {
   "cell_type": "code",
   "execution_count": 6,
   "id": "f7e942d3-87a2-4b23-9ea8-5db321cea8af",
   "metadata": {},
   "outputs": [
    {
     "data": {
      "text/plain": [
       "[Document(page_content='Vanguard Advice Select Global Value Fund\\n\\nContents\\n\\nPlease note: The opinions expressed in this report are just that—informed opinions. They should not be considered promises or advice. Also, please keep in mind that the information and opinions cover the period through the date on the front of this report. Of course, the risks of investing in your fund are spelled out in the prospectus.\\n\\nYour Fund’s Performance at a Glance\\n\\n• The 12 months ended October 31, 2022, were a volatile, challenging period for financial markets. Vanguard Advice Select Global Value Fund, which launched November 9, 2021, returned –14.01% from its inception through October 31, lagging the –12.39% return of its benchmark, the MSCI All Country World Value Index.', lookup_str='', metadata={'source': '/mnt/Select_Global_Value_Fund.pdf'}, lookup_index=0),\n",
       " Document(page_content='• The economic backdrop deteriorated as inflation soared to multidecade highs, fueled in part by higher energy and food prices after Russia’s invasion of Ukraine.Then price increases broadened to other categories of goods and services, adding to concerns that inflation would remain stubbornly high.That prompted aggressive tightening by many central banks to bring inflation back in check and increased fears of a recession.\\n\\n• The fund posted stellar returns in energy (almost 40% on average), but they weren’t enough to offset steep declines in other sectors (most notably, communication services and information technology). Relative to the benchmark, the fund’s stock picks in consumer discretionary and financials held up better, but the fund lagged when it came to health care and communication services.', lookup_str='', metadata={'source': '/mnt/Select_Global_Value_Fund.pdf'}, lookup_index=0)]"
      ]
     },
     "execution_count": 6,
     "metadata": {},
     "output_type": "execute_result"
    }
   ],
   "source": [
    "# Chunk your data up into smaller documents\n",
    "text_splitter = RecursiveCharacterTextSplitter(chunk_size=1000, chunk_overlap=0)\n",
    "texts = text_splitter.split_documents(data)\n",
    "texts[:2]"
   ]
  },
  {
   "cell_type": "code",
   "execution_count": 7,
   "id": "be89ce09-cc2c-48e7-aa51-017457d70c90",
   "metadata": {},
   "outputs": [
    {
     "name": "stdout",
     "output_type": "stream",
     "text": [
      "There are now 66 documents\n"
     ]
    }
   ],
   "source": [
    "print (f'There are now {len(texts)} documents')"
   ]
  },
  {
   "cell_type": "code",
   "execution_count": 1,
   "id": "a0931124-7047-4fe8-9113-c84e07743164",
   "metadata": {},
   "outputs": [
    {
     "name": "stderr",
     "output_type": "stream",
     "text": [
      "/opt/conda/lib/python3.9/site-packages/pinecone/index.py:4: TqdmExperimentalWarning: Using `tqdm.autonotebook.tqdm` in notebook mode. Use `tqdm.tqdm` instead to force console mode (e.g. in jupyter console)\n",
      "  from tqdm.autonotebook import tqdm\n"
     ]
    }
   ],
   "source": [
    "#Create embeddings of your documents to get ready for semantic search\n",
    "\n",
    "from langchain.vectorstores import FAISS, Pinecone\n",
    "from langchain.embeddings.openai import OpenAIEmbeddings\n",
    "from langchain.chains.qa_with_sources import load_qa_with_sources_chain\n",
    "import pinecone\n",
    "import pickle\n"
   ]
  },
  {
   "cell_type": "code",
   "execution_count": 3,
   "id": "f0c0d06f-3daa-4c82-9e91-7db8739227c0",
   "metadata": {},
   "outputs": [],
   "source": [
    "# Read your OpenAI key from the environment\n",
    "\n",
    "OPENAI_API_KEY = os.getenv('OPENAI_API_KEY') \n",
    "embeddings = OpenAIEmbeddings(openai_api_key=OPENAI_API_KEY)"
   ]
  },
  {
   "cell_type": "code",
   "execution_count": 5,
   "id": "18942653-32c7-4a78-ab05-db1c6b76aabb",
   "metadata": {},
   "outputs": [],
   "source": [
    "# Index and store the embeddings locally in a pickle file\n",
    "store = FAISS.from_texts([t.page_content for t in texts], embeddings)\n",
    "with open(\"faiss_store.pkl\", \"wb\") as f:\n",
    "    pickle.dump(store, f)\n"
   ]
  },
  {
   "cell_type": "code",
   "execution_count": 6,
   "id": "19610f07-cf90-40f6-a1ae-0ff33e4ae015",
   "metadata": {},
   "outputs": [],
   "source": [
    "# Query the docs to get your answer back\n",
    "from langchain.llms import OpenAI"
   ]
  },
  {
   "cell_type": "code",
   "execution_count": null,
   "id": "47ad3073-df19-4695-86ba-c61bf1256de0",
   "metadata": {},
   "outputs": [],
   "source": [
    "OPENAI_API_KEY = os.getenv('OPENAI_API_KEY') \n",
    "\n",
    "# Load the embeddings from the pickle file; change the location if needed\n",
    "if 'store' not in locals() or store is None:\n",
    "    with open(\"faiss_store.pkl\", \"rb\") as f:\n",
    "        store = pickle.load(f)\n",
    "        \n",
    "# Ucomment the line below to use the default davinci model \n",
    "# qa = VectorDBQA.from_chain_type(llm=OpenAI(), chain_type=\"stuff\", vectorstore=store)\n",
    "qa = VectorDBQA.from_chain_type(llm=OpenAI(model_name='gpt-3.5-turbo', temperature=0, openai_api_key=OPENAI_API_KEY), chain_type=\"stuff\", vectorstore=store)\n",
    "\n",
    "query = \"What is a datasource?\"\n",
    "docs = store.similarity_search(query)\n",
    "qa({\"input_documents\": docs, \"question\": query}, return_only_outputs=True)\n",
    "\n"
   ]
  }
 ],
 "metadata": {
  "kernelspec": {
   "display_name": "Python 3",
   "language": "python",
   "name": "python3"
  },
  "language_info": {
   "codemirror_mode": {
    "name": "ipython",
    "version": 3
   },
   "file_extension": ".py",
   "mimetype": "text/x-python",
   "name": "python",
   "nbconvert_exporter": "python",
   "pygments_lexer": "ipython3",
   "version": "3.9.15"
  }
 },
 "nbformat": 4,
 "nbformat_minor": 5
}
